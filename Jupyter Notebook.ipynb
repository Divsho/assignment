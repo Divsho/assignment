{
 "cells": [
  {
   "cell_type": "markdown",
   "id": "c0b07612-3890-409a-95bc-ef86b52f74b0",
   "metadata": {},
   "source": [
    "# My Jupyter Notebook on IBM Watson Studio"
   ]
  },
  {
   "cell_type": "markdown",
   "id": "3d9bb1fe-dea9-4e2d-a533-efd891a229be",
   "metadata": {},
   "source": [
    "**Divya Sankar**"
   ]
  },
  {
   "cell_type": "markdown",
   "id": "8f975f15-e5c5-453e-8f14-0dddfb194fef",
   "metadata": {},
   "source": [
    "_I am interested in data science because I love to work with data_ "
   ]
  },
  {
   "cell_type": "markdown",
   "id": "2e15219d-8c00-4bb7-9bda-995a3f36926a",
   "metadata": {},
   "source": [
    "### The following code shows the simple addition"
   ]
  },
  {
   "cell_type": "code",
   "execution_count": 3,
   "id": "21269a70-4df3-44ec-a390-c08a6c57e204",
   "metadata": {},
   "outputs": [
    {
     "data": {
      "text/plain": [
       "2"
      ]
     },
     "execution_count": 3,
     "metadata": {},
     "output_type": "execute_result"
    }
   ],
   "source": [
    "1+1"
   ]
  },
  {
   "cell_type": "markdown",
   "id": "d05ed900-2c12-4e74-a9fb-b243fe72d373",
   "metadata": {},
   "source": [
    "- Apple\n",
    "- Orange\n",
    "- Banana"
   ]
  },
  {
   "cell_type": "markdown",
   "id": "5d3ba9f7-f158-4426-a4db-045bb9769b3a",
   "metadata": {},
   "source": [
    "1. Apple\n",
    "2. Orange\n",
    "3. Banana"
   ]
  },
  {
   "cell_type": "markdown",
   "id": "14f0c41c-050c-41ed-b3a6-e86af3d3b841",
   "metadata": {},
   "source": [
    "~~Vegetables~~"
   ]
  }
 ],
 "metadata": {
  "kernelspec": {
   "display_name": "Python",
   "language": "python",
   "name": "conda-env-python-py"
  },
  "language_info": {
   "codemirror_mode": {
    "name": "ipython",
    "version": 3
   },
   "file_extension": ".py",
   "mimetype": "text/x-python",
   "name": "python",
   "nbconvert_exporter": "python",
   "pygments_lexer": "ipython3",
   "version": "3.7.12"
  }
 },
 "nbformat": 4,
 "nbformat_minor": 5
}
